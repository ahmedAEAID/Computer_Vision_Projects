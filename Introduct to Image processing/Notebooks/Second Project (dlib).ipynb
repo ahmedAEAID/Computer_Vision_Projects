{
 "cells": [
  {
   "cell_type": "code",
   "execution_count": 1,
   "id": "766b8abb",
   "metadata": {},
   "outputs": [],
   "source": [
    "from scipy.spatial import distance\n",
    "from imutils import face_utils\n",
    "import imutils\n",
    "import dlib\n",
    "import mediapipe as mp\n",
    "import cv2\n",
    "import datetime\n",
    "import playsound\n",
    "import time\n",
    "import dlib"
   ]
  },
  {
   "cell_type": "markdown",
   "id": "86effeb5",
   "metadata": {},
   "source": [
    "### dlib Detect Face\n",
    "\n",
    "\n",
    "- 68 landmarks\n",
    "\n",
    "![image landmarks](landmarks/landmarks.png) "
   ]
  },
  {
   "cell_type": "code",
   "execution_count": 10,
   "id": "d7b11ab5",
   "metadata": {
    "scrolled": true
   },
   "outputs": [],
   "source": [
    "detector = dlib.get_frontal_face_detector()\n",
    "predictor = dlib.shape_predictor('landmarks/shape_predictor_68_face_landmarks.dat')\n",
    "\n",
    "cap = cv2.VideoCapture(0)\n",
    "while cap.isOpened():\n",
    "    ret, frame = cap.read()\n",
    "    if ret:\n",
    "        gray = cv2.cvtColor(frame, cv2.COLOR_BGR2GRAY)\n",
    "        faces = detector(gray)\n",
    "        for face in faces:\n",
    "            pt1 = face.left(), face.top()\n",
    "            pt2 = face.right(), face.bottom()\n",
    "            cv2.rectangle(frame, pt1, pt2, (0,255,0), 2)\n",
    "            landmarks = predictor(gray, face)\n",
    "            \n",
    "            for n in range(68):\n",
    "                x = landmarks.part(n).x\n",
    "                y = landmarks.part(n).y\n",
    "                cv2.circle(frame, (x,y), 2, (0,255,0), -1)\n",
    "    cv2.imshow('Frame', frame)\n",
    "    key = cv2.waitKey(1)\n",
    "    if key == 27:\n",
    "        break\n",
    "\n",
    "cap.release()\n",
    "cv2.destroyAllWindows()\n",
    "                \n",
    "                "
   ]
  },
  {
   "cell_type": "markdown",
   "id": "a7e3eb4e",
   "metadata": {},
   "source": [
    "### Face mesh (mediapipe)\n",
    "- 468 landmarks\n",
    "![image landmarks](landmarks/facemesh_place.jpg) "
   ]
  },
  {
   "cell_type": "code",
   "execution_count": 11,
   "id": "8e8c198b",
   "metadata": {},
   "outputs": [],
   "source": [
    "mp_faceMesh= mp.solutions.face_mesh.FaceMesh()\n",
    "\n",
    "cap = cv2.VideoCapture(0)\n",
    "\n",
    "while cap.isOpened():\n",
    "    ret, frame = cap.read()\n",
    "    if ret:\n",
    "        rgb = cv2.cvtColor(frame, cv2.COLOR_BGR2RGB)\n",
    "        height, width, _= frame.shape\n",
    "        \n",
    "        res = mp_faceMesh.process(rgb)\n",
    "        if res.multi_face_landmarks != None:\n",
    "            for face_landmarks in res.multi_face_landmarks:\n",
    "                for i in range(468):\n",
    "                    pt1 = face_landmarks.landmark[i] # (x,y,z)\n",
    "                    x = int(pt1.x * width)\n",
    "                    y = int(pt1.y * height)\n",
    "                    cv2.circle(frame, (x,y) ,2, (0, 255, 0), -1)\n",
    "                \n",
    "        cv2.imshow('Cam', frame)\n",
    "        key = cv2.waitKey(1)\n",
    "        if key == 27:\n",
    "            break\n",
    "cv2.destroyAllWindows()\n",
    "cap.release()"
   ]
  },
  {
   "cell_type": "markdown",
   "id": "c54e3d55",
   "metadata": {},
   "source": [
    "### Convex Hull"
   ]
  },
  {
   "cell_type": "code",
   "execution_count": 17,
   "id": "4069bce7",
   "metadata": {},
   "outputs": [],
   "source": [
    "img = cv2.imread('cars.png')\n",
    "gray = cv2.cvtColor(img, cv2.COLOR_BGR2GRAY)\n",
    "_, thresh = cv2.threshold(gray, 50, 255,cv2.THRESH_BINARY)\n",
    "contours, hierarchy = cv2.findContours(thresh, cv2.RETR_TREE, cv2.CHAIN_APPROX_NONE)\n",
    "\n",
    "for contour in contours:\n",
    "    hull = cv2.convexHull(contour)\n",
    "    cv2.drawContours(img, [hull], -1, (255,0,0),2)\n",
    "#     cv2.drawContours(img, [contour], -1, (0,255,0),2)\n",
    "    \n",
    "cv2.imshow('Image', img)\n",
    "cv2.imshow('Gray',gray)\n",
    "cv2.imshow('Threshold',thresh)\n",
    "cv2.waitKey(0)\n",
    "cv2.destroyAllWindows()"
   ]
  },
  {
   "cell_type": "markdown",
   "id": "37caaac2",
   "metadata": {},
   "source": [
    "### Second Project"
   ]
  },
  {
   "cell_type": "code",
   "execution_count": 28,
   "id": "5d4f64b4",
   "metadata": {},
   "outputs": [],
   "source": [
    "ALARM_ON = False\n",
    "MODEL_PATH = \"landmarks/shape_predictor_68_face_landmarks.dat\"\n",
    "ALARM_PATH = \"sounds/accident.mp3\"\n",
    "\n",
    "def eye_aspect_ratio(eye):\n",
    "    A = distance.euclidean(eye[1], eye[5])\n",
    "    B = distance.euclidean(eye[2], eye[4])\n",
    "    C = distance.euclidean(eye[0], eye[3])\n",
    "    EAR = (A + B) / (2.0 * C)\n",
    "    return EAR\n",
    "\n",
    "def check():\n",
    "    thresh = 0.25\n",
    "    frame_check = 10  \n",
    "    detect = dlib.get_frontal_face_detector()\n",
    "    predict = dlib.shape_predictor(MODEL_PATH)  \n",
    "\n",
    "    (lStart, lEnd) = face_utils.FACIAL_LANDMARKS_68_IDXS[\"left_eye\"]\n",
    "    (rStart, rEnd) = face_utils.FACIAL_LANDMARKS_68_IDXS[\"right_eye\"]\n",
    "    \n",
    "    cap = cv2.VideoCapture(0)\n",
    "    flag = 0\n",
    "    elapsed_time = 0\n",
    "    while True:\n",
    "        ret, frame = cap.read()\n",
    "        if ret :\n",
    "            frame = cv2.resize(frame,(640,640))\n",
    "            gray = cv2.cvtColor(frame, cv2.COLOR_BGR2GRAY)\n",
    "            \n",
    "            faces = detect(gray)\n",
    "            for face in faces:\n",
    "                landmarks = predict(gray, face)\n",
    "                landmarks_face = face_utils.shape_to_np(landmarks)\n",
    "                leftEye = landmarks_face[lStart:lEnd]\n",
    "                rightEye = landmarks_face[rStart:rEnd]\n",
    "                \n",
    "                leftEAR = eye_aspect_ratio(leftEye)\n",
    "                rightEAR = eye_aspect_ratio(rightEye)\n",
    "                EAR = (leftEAR+rightEAR)/2\n",
    "                \n",
    "                leftEyeHull = cv2.convexHull(leftEye)\n",
    "                rightEyeHull = cv2.convexHull(rightEye)\n",
    "                cv2.drawContours(frame, [leftEyeHull], -1, (0, 255, 0), 1)\n",
    "                cv2.drawContours(frame, [rightEyeHull], -1, (0, 255, 0), 1)\n",
    "                \n",
    "                if thresh> EAR:\n",
    "                    end_time = time.time()\n",
    "                    flag += 1\n",
    "                    \n",
    "                    if flag > frame_check:\n",
    "                        if not ALARM_ON:\n",
    "                            ALARM_ON = True \n",
    "                            time.sleep(0.01)\n",
    "                        \n",
    "                        cv2.putText(frame, \"****************NOOO!****************\", (10, 30),\n",
    "                                cv2.FONT_HERSHEY_SIMPLEX, 0.7, (0, 0, 255), 2)\n",
    "                        elapsed_time = round(end_time - start_time,2)\n",
    "                        cv2.putText(frame,'sleeping time 00:'+str(elapsed_time)+'sec', (10, 60),\n",
    "                                    cv2.FONT_HERSHEY_SIMPLEX, 0.7, (0, 0, 255), 2)\n",
    "#                         playsound.playsound(ALARM_PATH, True) \n",
    "\n",
    "                else:\n",
    "                    start_time = time.time()\n",
    "                    flag = 0\n",
    "                    ALARM_ON = False\n",
    "                    \n",
    "        cv2.putText(frame,'last time :'+str(elapsed_time)+' sec', (400, 620),\n",
    "                                    cv2.FONT_HERSHEY_COMPLEX, 0.7, (0, 0, 255), 2)\n",
    "        cv2.imshow(\"Frame\", frame)\n",
    "        key = cv2.waitKey(1) & 0xFF\n",
    "        if key == ord(\"q\") or key == 27:\n",
    "            break\n",
    "    cap.release()\n",
    "    cv2.destroyAllWindows()\n",
    "    \n",
    "       "
   ]
  },
  {
   "cell_type": "code",
   "execution_count": 5,
   "id": "48f95795",
   "metadata": {},
   "outputs": [
    {
     "ename": "SyntaxError",
     "evalue": "invalid syntax (1850844711.py, line 1)",
     "output_type": "error",
     "traceback": [
      "\u001b[1;36m  Cell \u001b[1;32mIn[5], line 1\u001b[1;36m\u001b[0m\n\u001b[1;33m    start = datetime.time(00:00:00).second\u001b[0m\n\u001b[1;37m                            ^\u001b[0m\n\u001b[1;31mSyntaxError\u001b[0m\u001b[1;31m:\u001b[0m invalid syntax\n"
     ]
    }
   ],
   "source": [
    "check()"
   ]
  },
  {
   "cell_type": "code",
   "execution_count": 6,
   "id": "8bf1ab91",
   "metadata": {},
   "outputs": [
    {
     "name": "stdout",
     "output_type": "stream",
     "text": [
      "Number of seconds since January 1, 1970: 1689075577.6898525\n"
     ]
    }
   ],
   "source": []
  },
  {
   "cell_type": "code",
   "execution_count": 14,
   "id": "cde319f3",
   "metadata": {},
   "outputs": [
    {
     "name": "stdout",
     "output_type": "stream",
     "text": [
      "Elapsed time (seconds): 2.56\n"
     ]
    }
   ],
   "source": []
  },
  {
   "cell_type": "code",
   "execution_count": null,
   "id": "377a9ac2",
   "metadata": {},
   "outputs": [],
   "source": []
  }
 ],
 "metadata": {
  "kernelspec": {
   "display_name": "Python 3 (ipykernel)",
   "language": "python",
   "name": "python3"
  },
  "language_info": {
   "codemirror_mode": {
    "name": "ipython",
    "version": 3
   },
   "file_extension": ".py",
   "mimetype": "text/x-python",
   "name": "python",
   "nbconvert_exporter": "python",
   "pygments_lexer": "ipython3",
   "version": "3.11.4"
  }
 },
 "nbformat": 4,
 "nbformat_minor": 5
}
