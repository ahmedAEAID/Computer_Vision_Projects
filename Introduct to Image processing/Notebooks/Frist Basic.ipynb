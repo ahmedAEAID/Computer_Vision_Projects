{
 "cells": [
  {
   "cell_type": "code",
   "execution_count": 1,
   "id": "3586b8e9",
   "metadata": {},
   "outputs": [],
   "source": [
    "import matplotlib.pyplot as plt"
   ]
  },
  {
   "cell_type": "code",
   "execution_count": 104,
   "id": "cbca9d54",
   "metadata": {},
   "outputs": [],
   "source": [
    "import numpy as np\n",
    "import cv2\n",
    "import datetime\n",
    "import os"
   ]
  },
  {
   "cell_type": "code",
   "execution_count": 3,
   "id": "5c3a1ec4",
   "metadata": {},
   "outputs": [
    {
     "name": "stdout",
     "output_type": "stream",
     "text": [
      "4.8.0\n"
     ]
    }
   ],
   "source": [
    "print(cv2.__version__)"
   ]
  },
  {
   "cell_type": "code",
   "execution_count": 8,
   "id": "8bb25a2b",
   "metadata": {},
   "outputs": [
    {
     "name": "stdout",
     "output_type": "stream",
     "text": [
      "(195, 258)\n"
     ]
    }
   ],
   "source": [
    "img = cv2.imread('apple.jpeg',0)\n",
    "print(img.shape)"
   ]
  },
  {
   "cell_type": "code",
   "execution_count": 10,
   "id": "f78865ca",
   "metadata": {},
   "outputs": [
    {
     "name": "stdout",
     "output_type": "stream",
     "text": [
      "(195, 258, 3)\n"
     ]
    }
   ],
   "source": [
    "img = cv2.imread('apple.jpeg',1) # color image \n",
    "print(img.shape)\n",
    "# print(img)"
   ]
  },
  {
   "cell_type": "code",
   "execution_count": 6,
   "id": "d20312d6",
   "metadata": {},
   "outputs": [
    {
     "name": "stdout",
     "output_type": "stream",
     "text": [
      "(195, 258, 3)\n"
     ]
    }
   ],
   "source": [
    "img = cv2.imread('apple.jpeg',-1) # unchangable image\n",
    "print(img.shape)\n",
    "# print (img)"
   ]
  },
  {
   "cell_type": "code",
   "execution_count": 13,
   "id": "f4f6b3cc",
   "metadata": {},
   "outputs": [
    {
     "name": "stdout",
     "output_type": "stream",
     "text": [
      "102\n"
     ]
    }
   ],
   "source": [
    "cv2.imshow('first image',img)\n",
    "# k = cv2.waitKey(0) # press any key \n",
    "k = cv2.waitKey(5000) # close after 5 sec\n",
    "print(k)\n",
    "cv2.destroyAllWindows()\n",
    "# if k == 27: ##  esc key\n",
    "#     cv2.destroyAllWindows()\n",
    "# elif k == ord('s'):\n",
    "#     cv2.imwrite('image2.jpeg',img)\n",
    "#     cv2.destroyAllWindows()"
   ]
  },
  {
   "cell_type": "code",
   "execution_count": 23,
   "id": "907ea872",
   "metadata": {},
   "outputs": [
    {
     "name": "stdout",
     "output_type": "stream",
     "text": [
      "True\n"
     ]
    }
   ],
   "source": [
    "cap = cv2.VideoCapture(0)  ## 0 for main camera , name video or 1 for anther camera\n",
    "fourcc = cv2.VideoWriter_fourcc(*'XVID') # 'X', 'V', 'I', 'D'\n",
    "out = cv2.VideoWriter('output.avi', fourcc ,20.0, (640,480) )\n",
    "\n",
    "print(cap.isOpened())\n",
    "while(cap.isOpened()):\n",
    "    ret, frame = cap.read()\n",
    "    if ret == True:\n",
    "#         print(cap.get(cv2.CAP_PROP_FRAME_HEIGHT))\n",
    "#         print(cap.get(cv2.CAP_PROP_FRAME_WIDTH))\n",
    "        \n",
    "        out.write(frame)\n",
    "        \n",
    "        gray= cv2.cvtColor(frame, cv2.COLOR_BGR2GRAY)\n",
    "        cv2.imshow('frame',gray)\n",
    "        \n",
    "        if cv2.waitKey(1) & 0XFF == ord('q'):\n",
    "            break\n",
    "    else:\n",
    "        break\n",
    "\n",
    "cap.release()\n",
    "out.release()\n",
    "cv2.destroyAllWindows()\n"
   ]
  },
  {
   "cell_type": "code",
   "execution_count": 14,
   "id": "30def656",
   "metadata": {},
   "outputs": [
    {
     "data": {
      "text/plain": [
       "'D:\\\\learning\\\\Machine learning\\\\Computer Vision\\\\Basic'"
      ]
     },
     "execution_count": 14,
     "metadata": {},
     "output_type": "execute_result"
    }
   ],
   "source": [
    "pwd"
   ]
  },
  {
   "cell_type": "markdown",
   "id": "58d8738b",
   "metadata": {},
   "source": [
    "### Draw geometric shapes on images"
   ]
  },
  {
   "cell_type": "code",
   "execution_count": 55,
   "id": "a29da146",
   "metadata": {},
   "outputs": [],
   "source": [
    "img = np.zeros([512,512,3],np.uint8)\n",
    "\n",
    "img = cv2.line(img,[0,0],[256,256], (0,255,255),3)\n",
    "img = cv2.arrowedLine(img, (0,256),(256,256), (0,0,255),2)\n",
    "img = cv2.rectangle(img, (206,206),(306,306),(100,100,100),-1)\n",
    "img = cv2.circle(img, [400,400],50,(125,245,32),-1)\n",
    "\n",
    "font = cv2.FONT_HERSHEY_SIMPLEX\n",
    "img = cv2.putText(img, 'opencv',(10,100),font, 2,(120,205,42),5)\n",
    "\n",
    "pts = np.array([[10,200],[200,200],[250,400],[60,400]],np.int32)\n",
    "img = cv2.polylines(img, [pts],True, (159,153,46),5,)\n",
    "# print(img)\n",
    "cv2.imshow('black-image',img)\n",
    "cv2.waitKey(0)\n",
    "cv2.destroyAllWindows()"
   ]
  },
  {
   "cell_type": "markdown",
   "id": "61a41d3d",
   "metadata": {},
   "source": [
    "### seting camera parameters in opencv"
   ]
  },
  {
   "cell_type": "code",
   "execution_count": 65,
   "id": "3fb03713",
   "metadata": {
    "scrolled": true
   },
   "outputs": [
    {
     "name": "stdout",
     "output_type": "stream",
     "text": [
      "480.0\n",
      "640.0\n",
      "True\n",
      "640.0\n"
     ]
    }
   ],
   "source": [
    "cap = cv2.VideoCapture(0)  \n",
    "print(cap.get(cv2.CAP_PROP_FRAME_HEIGHT))\n",
    "print(cap.get(cv2.CAP_PROP_FRAME_WIDTH))\n",
    "\n",
    "cap.set(3,1280)\n",
    "cap.set(4,720)\n",
    "\n",
    "print(cap.isOpened()) \n",
    "print(cap.get(3))\n",
    "print(cap.get(4))\n",
    "while(cap.isOpened()):\n",
    "    ret, frame = cap.read()\n",
    "    if ret == True:\n",
    "        \n",
    "        gray= cv2.cvtColor(frame, cv2.COLOR_BGR2GRAY)\n",
    "        cv2.imshow('frame',gray)\n",
    "        \n",
    "        if cv2.waitKey(1) & 0XFF == ord('q'):\n",
    "            break\n",
    "    else:\n",
    "        break\n",
    "\n",
    "cap.release()\n",
    "cv2.destroyAllWindows()"
   ]
  },
  {
   "cell_type": "code",
   "execution_count": 67,
   "id": "1bb5f9df",
   "metadata": {},
   "outputs": [
    {
     "name": "stdout",
     "output_type": "stream",
     "text": [
      "640.0\n",
      "480.0\n"
     ]
    }
   ],
   "source": [
    "cap = cv2.VideoCapture(0) \n",
    "\n",
    "print(cap.get(3))\n",
    "print(cap.get(4))\n",
    "while(cap.isOpened()):\n",
    "    ret, frame = cap.read()\n",
    "    if ret == True:\n",
    "        \n",
    "        font = cv2.FONT_HERSHEY_SCRIPT_SIMPLEX\n",
    "        text = 'Width: '+str(cap.get(3))+'Hight: '+str(cap.get(4))\n",
    "        dt = str(datetime.datetime.now())\n",
    "        frame = cv2.putText(frame, text, (10,50),font, 1, (0,255,255),2)\n",
    "        frame = cv2.putText(frame, dt, (10,100),font, 1, (0,255,255),2)\n",
    "        cv2.imshow('frame',frame)\n",
    "        \n",
    "        if cv2.waitKey(1) & 0XFF == ord('q'):\n",
    "            break\n",
    "    else:\n",
    "        break\n",
    "\n",
    "cap.release()\n",
    "cv2.destroyAllWindows()"
   ]
  },
  {
   "cell_type": "markdown",
   "id": "86476189",
   "metadata": {},
   "source": [
    "### Handle Mouse Events in OpenCV"
   ]
  },
  {
   "cell_type": "code",
   "execution_count": 4,
   "id": "a09c7b0a",
   "metadata": {},
   "outputs": [
    {
     "name": "stdout",
     "output_type": "stream",
     "text": [
      "['EVENT_FLAG_ALTKEY', 'EVENT_FLAG_CTRLKEY', 'EVENT_FLAG_LBUTTON', 'EVENT_FLAG_MBUTTON', 'EVENT_FLAG_RBUTTON', 'EVENT_FLAG_SHIFTKEY', 'EVENT_LBUTTONDBLCLK', 'EVENT_LBUTTONDOWN', 'EVENT_LBUTTONUP', 'EVENT_MBUTTONDBLCLK', 'EVENT_MBUTTONDOWN', 'EVENT_MBUTTONUP', 'EVENT_MOUSEHWHEEL', 'EVENT_MOUSEMOVE', 'EVENT_MOUSEWHEEL', 'EVENT_RBUTTONDBLCLK', 'EVENT_RBUTTONDOWN', 'EVENT_RBUTTONUP']\n"
     ]
    }
   ],
   "source": [
    "events = [i for i in dir(cv2) if 'EVENT' in i]\n",
    "print(events)"
   ]
  },
  {
   "cell_type": "code",
   "execution_count": 28,
   "id": "3ec96bdc",
   "metadata": {},
   "outputs": [
    {
     "name": "stdout",
     "output_type": "stream",
     "text": [
      "41 ,  17\n",
      "148 ,  82\n"
     ]
    }
   ],
   "source": [
    "def click_event(event, x, y, flags, param):\n",
    "    \n",
    "    if event == cv2.EVENT_LBUTTONDOWN:\n",
    "        img = cv2.imread('CR7_.jpg')\n",
    "        print(x, ', ', y)\n",
    "#         print(flags)\n",
    "        font = cv2.FONT_HERSHEY_SCRIPT_SIMPLEX\n",
    "        text = str(x)+ ', '+ str(y)\n",
    "        cv2.putText(img, text, (x,y), font, 0.5, (255,255,0), 2)\n",
    "        cv2.imshow('image',img)\n",
    "    if event == cv2.EVENT_RBUTTONDOWN:\n",
    "#         print(flags)\n",
    "        img = cv2.imread('apple.jpeg')\n",
    "        b = img[y,x,0]\n",
    "        g = img[y,x,1]\n",
    "        r = img[y,x,2]\n",
    "        font = cv2.FONT_HERSHEY_SCRIPT_SIMPLEX\n",
    "        text ='('+ str(b)+ ', '+ str(g)+ ', '+ str(r)+ ')'\n",
    "        cv2.putText(img, text, (x,y), font, 0.5, (255,255,0), 2)\n",
    "        cv2.imshow('image',img)\n",
    "\n",
    "img = cv2.imread('CR7_.jpg')\n",
    "cv2.imshow('image',img)\n",
    "\n",
    "cv2.setMouseCallback('image',click_event)\n",
    "\n",
    "cv2.waitKey(0)\n",
    "cv2.destroyAllWindows()"
   ]
  },
  {
   "cell_type": "code",
   "execution_count": 11,
   "id": "9186bce1",
   "metadata": {},
   "outputs": [],
   "source": [
    "def click_event(event, x,y , flags, param):\n",
    "    if event == cv2.EVENT_LBUTTONDOWN:\n",
    "        cv2.circle(img,( x, y), 10, (255,0,255), -1)\n",
    "        points.append((x,y))\n",
    "        if len(points)>=2:\n",
    "            cv2.line(img, points[-2],points[-1],(150,140,140),3 )\n",
    "        cv2.imshow('image', img)\n",
    "\n",
    "img = np.zeros((512,512,3),np.uint8)\n",
    "cv2.imshow('image', img)\n",
    "points = []\n",
    "cv2.setMouseCallback('image', click_event)\n",
    "\n",
    "cv2.waitKey(0)\n",
    "cv2.destroyAllWindows()"
   ]
  },
  {
   "cell_type": "code",
   "execution_count": 17,
   "id": "b7930682",
   "metadata": {
    "scrolled": true
   },
   "outputs": [
    {
     "name": "stdout",
     "output_type": "stream",
     "text": [
      "(195, 258, 3) (188, 116)\n",
      "(195, 258, 3) (208, 150)\n",
      "(195, 258, 3) (227, 123)\n",
      "(195, 258, 3) (234, 165)\n",
      "(195, 258, 3) (155, 150)\n",
      "(195, 258, 3) (214, 138)\n",
      "(195, 258, 3) (205, 126)\n",
      "(195, 258, 3) (73, 79)\n",
      "(195, 258, 3) (72, 53)\n",
      "(195, 258, 3) (151, 44)\n",
      "(195, 258, 3) (93, 58)\n",
      "(195, 258, 3) (104, 50)\n",
      "(195, 258, 3) (120, 45)\n"
     ]
    }
   ],
   "source": [
    "def click_event(event, x, y, flags, param):\n",
    "    if event == cv2.EVENT_LBUTTONDOWN:\n",
    "        print((x,y))\n",
    "        b = img[y,x,0]\n",
    "        g = img[y,x,1]\n",
    "        r = img[y,x,2]\n",
    "        colorimg = np.zeros((512,512,3),np.uint8)\n",
    "        colorimg[:] = (b,g,r)\n",
    "        cv2.imshow('color',colorimg)\n",
    "\n",
    "img = cv2.imread('apple.jpeg')\n",
    "cv2.imshow('image',img)\n",
    "\n",
    "cv2.setMouseCallback('image',click_event)\n",
    "\n",
    "cv2.waitKey(0)\n",
    "cv2.destroyAllWindows()"
   ]
  },
  {
   "cell_type": "code",
   "execution_count": 46,
   "id": "fbbf5e8a",
   "metadata": {
    "scrolled": true
   },
   "outputs": [
    {
     "name": "stdout",
     "output_type": "stream",
     "text": [
      "(195, 258, 3)\n",
      "150930\n",
      "(432, 768, 3)\n",
      "995328\n"
     ]
    }
   ],
   "source": [
    "img= cv2.imread('apple.jpeg')\n",
    "img2 = cv2.imread('CR7_.jpg', 1)\n",
    "\n",
    "print(img.shape)\n",
    "print(img.size)\n",
    "print(img2.shape)\n",
    "print(img2.size)\n",
    "\n",
    "b,g, r = cv2.split(img)\n",
    "# cv2.imshow('blue',b)\n",
    "# cv2.imshow('green',g)\n",
    "# cv2.imshow('red',r)\n",
    "img = cv2.merge((b,g,r))\n",
    "\n",
    "# ball = img2[120:233,228:353]\n",
    "# print(ball.shape)\n",
    "# img2 [17:17+ball.shape[0], 41:41+ball.shape[1]]= ball\n",
    "img = cv2.resize(img, (512,512))\n",
    "img2 = cv2.resize(img2, (512,512))\n",
    "\n",
    "# dst = cv2.add(img, img2)\n",
    "dst = cv2.addWeighted(img, 0.2, img2,0.8, 0)\n",
    "\n",
    "cv2.imshow('image',dst)\n",
    "\n",
    "\n",
    "cv2.waitKey(0)\n",
    "cv2.destroyAllWindows()"
   ]
  },
  {
   "cell_type": "markdown",
   "id": "bb39b4bc",
   "metadata": {},
   "source": [
    "### bitwise Operations"
   ]
  },
  {
   "cell_type": "code",
   "execution_count": 52,
   "id": "e33b7c20",
   "metadata": {},
   "outputs": [],
   "source": [
    "img1 = np.full((512,512,3), 0, np.uint8)\n",
    "img1 = cv2.rectangle(img1, (200,200),(300,400),(255, 255,255), -1 )\n",
    "img2 = np.full((512,512,3), 255, np.uint8)\n",
    "img2 = cv2.rectangle(img2, (270,270),(400,500),(0, 0,0), -1 )\n",
    "\n",
    "bitAnd = cv2.bitwise_and(img1,img2)\n",
    "bitOr = cv2.bitwise_or(img1,img2)\n",
    "bitXor = cv2.bitwise_xor(img1,img2)\n",
    "bitNot1 = cv2.bitwise_not(img1)\n",
    "bitNot2 = cv2.bitwise_not(img2)\n",
    "\n",
    "cv2.imshow('img1',img1)\n",
    "cv2.imshow('img2',img2)\n",
    "cv2.imshow('bitAnd',bitAnd)\n",
    "cv2.imshow('bitOr',bitOr)\n",
    "cv2.imshow('bitXor',bitXor)\n",
    "cv2.imshow('bitNot1',bitNot1)\n",
    "cv2.imshow('bitNot2',bitNot2)\n",
    "cv2.waitKey(0)\n",
    "cv2.destroyAllWindows()"
   ]
  },
  {
   "cell_type": "code",
   "execution_count": 56,
   "id": "55a8dbdf",
   "metadata": {},
   "outputs": [
    {
     "name": "stdout",
     "output_type": "stream",
     "text": [
      "4\n"
     ]
    }
   ],
   "source": [
    "def nothing(x):\n",
    "#     print(x)\n",
    "    pass\n",
    "\n",
    "img = np.zeros((300,512,3),np.uint8)\n",
    "\n",
    "cv2.namedWindow('image')\n",
    "cv2.createTrackbar('B', 'image', 10, 255, nothing)\n",
    "cv2.createTrackbar('G', 'image', 0, 255, nothing)\n",
    "cv2.createTrackbar('R', 'image', 0, 255, nothing)\n",
    "switch = '0: OFF \\n 1: ON'\n",
    "cv2.createTrackbar(switch, 'image', 0, 1, nothing)\n",
    "\n",
    "while(True):\n",
    "    cv2.imshow('image',img)\n",
    "    k = cv2.waitKey(1) & 0XFF\n",
    "    if k == 27 or  cv2.getWindowProperty(\"image\", cv2.WND_PROP_VISIBLE) < 1:\n",
    "        break\n",
    "    b = cv2.getTrackbarPos('B','image')\n",
    "    g = cv2.getTrackbarPos('G','image')\n",
    "    r = cv2.getTrackbarPos('R','image')\n",
    "    s = cv2.getTrackbarPos(switch,'image')\n",
    "    \n",
    "    if s == 0:\n",
    "        img[:] = 0\n",
    "    else:\n",
    "        img[:] =[b,g,r]\n",
    "\n",
    "cv2.destroyAllWindows()"
   ]
  },
  {
   "cell_type": "markdown",
   "id": "4e433eb7",
   "metadata": {},
   "source": [
    "### Object Detection by HSV Color Space"
   ]
  },
  {
   "cell_type": "code",
   "execution_count": 83,
   "id": "15bc5afd",
   "metadata": {},
   "outputs": [],
   "source": [
    " while True:\n",
    "    frame = cv2.imread('smarties.png',1)\n",
    "    hsv = cv2.cvtColor(frame, cv2.COLOR_BGR2HSV)\n",
    "    b_l = np.array([100,30,30])\n",
    "    b_h = np.array([130,255,255])\n",
    "\n",
    "    mask = cv2.inRange(hsv, b_l, b_h)\n",
    "    res = cv2.bitwise_and(frame ,frame, mask=mask)\n",
    "#     b2 = frame[:,:,0] * mask\n",
    "#     g2 = frame[:,:,1] * mask\n",
    "#     r2 = frame[:,:,2] * mask\n",
    "#     res2 = cv2.merge([b2,g2,r2])\n",
    "    cv2.imshow('frame',frame)\n",
    "    cv2.imshow('hsv',hsv)\n",
    "    cv2.imshow('mask',mask)\n",
    "    cv2.imshow('res',res2)\n",
    "    \n",
    "    k = cv2.waitKey(1) & 0XFF\n",
    "    if k == 27 :\n",
    "        break\n",
    "        \n",
    "cv2.destroyAllWindows()"
   ]
  },
  {
   "cell_type": "code",
   "execution_count": 86,
   "id": "029450fa",
   "metadata": {},
   "outputs": [],
   "source": [
    "def nothing(c):\n",
    "    pass\n",
    "cv2.namedWindow('tracking')\n",
    "cv2.createTrackbar('LH','tracking',0, 255,nothing)\n",
    "cv2.createTrackbar('LS','tracking',0, 255,nothing)\n",
    "cv2.createTrackbar('LV','tracking',0, 255,nothing)\n",
    "cv2.createTrackbar('UH','tracking',255, 255,nothing)\n",
    "cv2.createTrackbar('US','tracking',255, 255,nothing)\n",
    "cv2.createTrackbar('UV','tracking',255, 255,nothing)\n",
    "\n",
    "while True:\n",
    "    frame = cv2.imread('smarties.png')\n",
    "    \n",
    "    hsv = cv2.cvtColor(frame, cv2.COLOR_BGR2HSV)\n",
    "    lh = cv2.getTrackbarPos('LH', 'tracking')\n",
    "    ls = cv2.getTrackbarPos('LS', 'tracking')\n",
    "    lv = cv2.getTrackbarPos('LV', 'tracking')\n",
    "    \n",
    "    uh = cv2.getTrackbarPos('UH', 'tracking')\n",
    "    us = cv2.getTrackbarPos('US', 'tracking')\n",
    "    uv = cv2.getTrackbarPos('UV', 'tracking')\n",
    "    \n",
    "    b_l = np.array([lh, ls, lv])\n",
    "    b_h = np.array([uh, us, uv])\n",
    "\n",
    "    mask = cv2.inRange(hsv, b_l, b_h)\n",
    "    res = cv2.bitwise_and(frame ,frame, mask=mask)\n",
    "#     b2 = frame[:,:,0] * mask\n",
    "#     g2 = frame[:,:,1] * mask\n",
    "#     r2 = frame[:,:,2] * mask\n",
    "#     res2 = cv2.merge([b2,g2,r2])\n",
    "    cv2.imshow('frame',frame)\n",
    "    cv2.imshow('hsv',hsv)\n",
    "    cv2.imshow('mask',mask)\n",
    "    cv2.imshow('res',res)\n",
    "    \n",
    "    k = cv2.waitKey(1) & 0XFF\n",
    "    if k == 27 :\n",
    "        break\n",
    "        \n",
    "cv2.destroyAllWindows()"
   ]
  },
  {
   "cell_type": "code",
   "execution_count": 101,
   "id": "91cda5f1",
   "metadata": {},
   "outputs": [],
   "source": [
    "cap = cv2.VideoCapture(0)\n",
    "\n",
    "while True:\n",
    "    ret, frame = cap.read()\n",
    "    if ret:\n",
    "        hsv_frame = cv2.cvtColor(frame, cv2.COLOR_BGR2HSV)\n",
    "        height, width, _ = frame.shape\n",
    "        cx, cy = int(width/2), int(height/2)\n",
    "        pixel_center_hsv = hsv_frame[cx,cy]\n",
    "        hue_value = pixel_center_hsv[0]\n",
    "        \n",
    "        color = 'Udefined'\n",
    "        if hue_value <6:\n",
    "            color='RED'\n",
    "        elif hue_value < 21:\n",
    "            color = 'ORANGE'\n",
    "        elif hue_value < 33:\n",
    "            color = 'YELLOW'\n",
    "        elif hue_value < 78:\n",
    "            color = 'GREEN'\n",
    "        elif hue_value < 131: \n",
    "            color = 'BLUE'\n",
    "        elif hue_value < 170:\n",
    "            color = 'VIOLET'\n",
    "        else:\n",
    "            color = 'RED'\n",
    "        \n",
    "        pixel_center = frame[cx, cy]\n",
    "        b,g,r = int(pixel_center[0]),int(pixel_center[1]),int(pixel_center[2])\n",
    "        cv2.rectangle(frame, [cx - 220,10], [cx+200, 120],(200,200,200), -1)\n",
    "        cv2.putText(frame, color, (cx-200,100), 0, 3, (b,g,r), 5)\n",
    "        cv2.circle(frame, (cx, cy), 7, (25,25,25),3)\n",
    "        \n",
    "        cv2.imshow('Frame',frame)\n",
    "        k = cv2.waitKey(1) & 0XFF\n",
    "        if k == 27 :\n",
    "            break\n",
    "    else:\n",
    "        break\n",
    "\n",
    "cap.release()\n",
    "cv2.destroyAllWindows()\n",
    "        "
   ]
  },
  {
   "cell_type": "markdown",
   "id": "2eda0183",
   "metadata": {},
   "source": [
    "### Reinhard Color Transfer "
   ]
  },
  {
   "cell_type": "raw",
   "id": "de244329",
   "metadata": {},
   "source": [
    "# os.chdir('D:\\\\learning\\\\Machine learning\\\\Computer Vision\\\\Basic')\n",
    "\n",
    "input_dir = \"input_images/\"\n",
    "#input_dir = \"pathology_input/\"\n",
    "input_image_list = os.listdir(inp\n",
    "\n",
    "output_dir = \"output_images/\"\n",
    "#output_dir = \"pathology_output/\"\n",
    "\n",
    "def get_mean_and_std(x):\n",
    "    x_mean, x_std = cv2.meanStdDev(x)\n",
    "    x_mean = np.hstack(np.around(x_mean,2)) # 9.879\n",
    "    x_std = np.hstack(np.around(x_std,2))\n",
    "    return x_mean, x_std\n",
    "\n",
    "template_img = cv2.imread('template_images/images (6).jpg')\n",
    "#template_img = cv2.imread('pathology_template/3.png')\n",
    "template_img = cv2.cvtColor(template_img,cv2.COLOR_BGR2LAB)\n",
    "template_mean, template_std = get_mean_and_std(template_img)\n",
    "\n",
    "for img in (input_image_list):\n",
    "    input_img = cv2.imread(input_dir+img)\n",
    "    input_img = cv2.cvtColor(input_img,cv2.COLOR_BGR2LAB)\n",
    "    \n",
    "    \n",
    "    img_mean, img_std = get_mean_and_std(input_img)\n",
    "    \n",
    "    \n",
    "    height, width, channel = input_img.shape\n",
    "    for i in range(0,height):\n",
    "        for j in range(0,width):\n",
    "            for k in range(0,channel):\n",
    "                x = input_img[i,j,k]\n",
    "             # print(\"x\",x)\n",
    "                x = ((x-img_mean[k])*(template_std[k]/img_std[k]))+template_mean[k]\n",
    "                x = round(x)\n",
    "                # boundary check\n",
    "                x = 0 if x<0 else x\n",
    "                x = 255 if x>255 else x\n",
    "                input_img[i,j,k] = x\n",
    "            \n",
    "    input_img= cv2.cvtColor(input_img,cv2.COLOR_LAB2BGR)\n",
    "    cv2.imwrite(output_dir+\"modified_\"+img, input_img)"
   ]
  },
  {
   "cell_type": "markdown",
   "id": "be5631b9",
   "metadata": {},
   "source": [
    "### Rein Color (more Efficient Code)"
   ]
  },
  {
   "cell_type": "code",
   "execution_count": 123,
   "id": "7a0d88f6",
   "metadata": {},
   "outputs": [
    {
     "name": "stdout",
     "output_type": "stream",
     "text": [
      "Done!\n"
     ]
    }
   ],
   "source": [
    "input_dir = \"input_images/\"\n",
    "output_dir = \"output_images/\"\n",
    "\n",
    "input_image_list = os.listdir(input_dir)\n",
    "\n",
    "def get_mean_and_std(x):\n",
    "    x_mean, x_std = cv2.meanStdDev(x)\n",
    "    x_mean = np.hstack(np.around(x_mean,2)) # 9.879\n",
    "    x_std = np.hstack(np.around(x_std,2))\n",
    "    return x_mean, x_std\n",
    "\n",
    "template_img = cv2.imread('template_images/sun.jpg')\n",
    "template_img = cv2.cvtColor(template_img,cv2.COLOR_BGR2LAB)\n",
    "template_mean, template_std = get_mean_and_std(template_img)\n",
    "\n",
    "for img in (input_image_list):\n",
    "    input_img = cv2.imread(input_dir+img)\n",
    "    input_img = cv2.cvtColor(input_img,cv2.COLOR_BGR2LAB)\n",
    "    \n",
    "    \n",
    "    img_mean, img_std = get_mean_and_std(input_img)\n",
    "    \n",
    "    \n",
    "    height, width, channel = input_img.shape\n",
    "    channels= []\n",
    "    for k in range(0,channel):\n",
    "        x = input_img[:,:,k]\n",
    "        x = ((x-img_mean[k])*(template_std[k]/img_std[k]))+template_mean[k]\n",
    "        x = np.round(x)\n",
    "        x[x>255] =255\n",
    "        x[x<0] = 0 \n",
    "        channels.append(x)\n",
    "    output_img = cv2.merge(channels)\n",
    "    output_img = output_img.astype(np.uint8)\n",
    "    output_img= cv2.cvtColor(output_img,cv2.COLOR_LAB2BGR)\n",
    "    cv2.imwrite(output_dir+\"new_\"+img, output_img)\n",
    "else:\n",
    "    print('Done!')"
   ]
  },
  {
   "cell_type": "code",
   "execution_count": 119,
   "id": "8f97cc3b",
   "metadata": {},
   "outputs": [],
   "source": [
    " "
   ]
  },
  {
   "cell_type": "code",
   "execution_count": null,
   "id": "ff0a3281",
   "metadata": {},
   "outputs": [],
   "source": []
  }
 ],
 "metadata": {
  "kernelspec": {
   "display_name": "Python 3 (ipykernel)",
   "language": "python",
   "name": "python3"
  },
  "language_info": {
   "codemirror_mode": {
    "name": "ipython",
    "version": 3
   },
   "file_extension": ".py",
   "mimetype": "text/x-python",
   "name": "python",
   "nbconvert_exporter": "python",
   "pygments_lexer": "ipython3",
   "version": "3.7.12"
  }
 },
 "nbformat": 4,
 "nbformat_minor": 5
}
