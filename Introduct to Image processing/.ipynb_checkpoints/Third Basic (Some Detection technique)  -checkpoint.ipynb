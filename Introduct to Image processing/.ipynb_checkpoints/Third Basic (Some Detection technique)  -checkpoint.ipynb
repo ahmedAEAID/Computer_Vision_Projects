{
 "cells": [
  {
   "cell_type": "code",
   "execution_count": 50,
   "id": "d2e48399",
   "metadata": {},
   "outputs": [],
   "source": [
    "import numpy as np \n",
    "import matplotlib.pyplot as plt \n",
    "import cv2\n",
    "import os"
   ]
  },
  {
   "cell_type": "code",
   "execution_count": null,
   "id": "de0d2623",
   "metadata": {},
   "outputs": [],
   "source": [
    "# blurred = cv2.GaussianBlur(img, (5, 5), 0)\n",
    "# gray = cv2.cvtColor(blurred, cv2.COLOR_BGR2GRAY)\n",
    "# ret, mask = cv2.threshold(gray, 50,255, cv2.THRESH_BINARY_INV)\n",
    "# kernel = cv2.getStructuringElement(cv2.MORPH_ELLIPSE, (5, 5))\n",
    "# mask = cv2.morphologyEx(mask, cv2.MORPH_CLOSE, np.ones((5,5)))\n",
    "\n",
    "# blur = cv2.Canny(img, 150,200)\n",
    "# gray = cv2.cvtColor(img, cv2.COLOR_BGR2GRAY)\n",
    "# _, blur = cv2.threshold(gray,50,255,cv2.THRESH_BINARY_INV )\n",
    "# # dilation = cv2.dilate(blur,np.ones((3,3)),iterations = 2)\n",
    "# opening = cv2.morphologyEx(blur,cv2.)\n",
    "# blur = cv2.GaussianBlur(dilation,(7,7),3)\n",
    "# blur = cv2.medianBlur(dilation , 11)"
   ]
  },
  {
   "cell_type": "code",
   "execution_count": 108,
   "id": "8c92cd55",
   "metadata": {},
   "outputs": [],
   "source": [
    "img = cv2.imread('shapesReal.jpg')\n",
    "\n",
    "hsv = cv2.cvtColor(img, cv2.COLOR_BGR2HSV)\n",
    "\n",
    "# for noise image\n",
    "# b_l = np.array([0,106,111])\n",
    "# b_h = np.array([255,255,255])\n",
    "\n",
    "# real image\n",
    "b_l = np.array([17,64,198])\n",
    "b_h = np.array([255,255,255])\n",
    "\n",
    "mask = cv2.inRange(hsv, b_l, b_h)\n",
    "res = cv2.bitwise_and(img ,img, mask=mask)\n",
    "imgGrey = cv2.cvtColor(res, cv2.COLOR_BGR2GRAY)\n",
    "\n",
    "contours, _ = cv2.findContours(imgGrey, cv2.RETR_EXTERNAL, cv2.CHAIN_APPROX_NONE)\n",
    "\n",
    "for contour in contours:\n",
    "    approx = cv2.approxPolyDP(contour, 0.01* cv2.arcLength(contour, True), True)\n",
    "    cv2.drawContours(img, [approx], 0, (0, 255, 0), 5)\n",
    "    x = approx.ravel()[0]   \n",
    "    y = approx.ravel()[1] - 8\n",
    "    \n",
    "    if len(approx) == 3:  \n",
    "        cv2.putText(img, \"Triangle\", (x, y), cv2.FONT_HERSHEY_COMPLEX, 0.5, (255, 255, 255))               \n",
    "\n",
    "    elif len(approx) == 4 : \n",
    "        x1 ,y1, w, h = cv2.boundingRect(approx) \n",
    "        aspectRatio = float(w)/h   \n",
    "        if aspectRatio >= 0.95 and aspectRatio <= 1.05:   \n",
    "            cv2.putText(img, \"square\", (x, y), cv2.FONT_HERSHEY_COMPLEX, 0.5, (255, 255, 255))\n",
    "        else:\n",
    "            cv2.putText(img, \"rectangle\", (x, y), cv2.FONT_HERSHEY_COMPLEX, 0.5, (255, 255, 255))                     \n",
    "\n",
    "    elif len(approx) == 5:           \n",
    "        cv2.putText(img, \"Pentagon\", (x, y), cv2.FONT_HERSHEY_COMPLEX, 0.5, (255, 255, 255))                \n",
    "\n",
    "    elif len(approx) == 10:\n",
    "        \n",
    "        cv2.putText(img, \"Star\", (x, y), cv2.FONT_HERSHEY_COMPLEX, 0.5, (255, 255, 255))                \n",
    "\n",
    "    else:\n",
    "        cv2.putText(img, \"Circle\", (x, y), cv2.FONT_HERSHEY_COMPLEX, 0.5, (255, 255, 255))                 \n",
    "\n",
    "cv2.imshow(\"gray\", imgGrey)\n",
    "cv2.imshow(\"blur\", res)\n",
    "cv2.imshow(\"dilation\", res)\n",
    "cv2.imshow(\"shapes\", img)\n",
    "cv2.waitKey(0)\n",
    "cv2.destroyAllWindows()"
   ]
  },
  {
   "cell_type": "code",
   "execution_count": 29,
   "id": "118afdd9",
   "metadata": {
    "scrolled": true
   },
   "outputs": [
    {
     "name": "stdout",
     "output_type": "stream",
     "text": [
      "(50.0, array([[  0, 255, 255, ..., 255, 255, 255],\n",
      "       [  0,   0, 255, ..., 255,   0, 255],\n",
      "       [  0, 255, 255, ..., 255,   0,   0],\n",
      "       ...,\n",
      "       [255,   0,   0, ..., 255, 255, 255],\n",
      "       [255, 255, 255, ...,   0,   0, 255],\n",
      "       [255, 255, 255, ...,   0,   0, 255]], dtype=uint8))\n"
     ]
    }
   ],
   "source": [
    "print(blur)"
   ]
  },
  {
   "cell_type": "code",
   "execution_count": null,
   "id": "ef8c716c",
   "metadata": {},
   "outputs": [],
   "source": [
    "img = cv2.imread('shapesWithNoise.jpg')\n",
    "hsv = cv2.cvtColor(blurred, cv2.COLOR_BGR2HSV)\n"
   ]
  },
  {
   "cell_type": "code",
   "execution_count": 103,
   "id": "6a827e56",
   "metadata": {},
   "outputs": [],
   "source": [
    "def nothing(c):\n",
    "    pass\n",
    "cv2.namedWindow('tracking')\n",
    "cv2.createTrackbar('LH','tracking',0, 255,nothing)\n",
    "cv2.createTrackbar('LS','tracking',0, 255,nothing)\n",
    "cv2.createTrackbar('LV','tracking',0, 255,nothing)\n",
    "cv2.createTrackbar('UH','tracking',255, 255,nothing)\n",
    "cv2.createTrackbar('US','tracking',255, 255,nothing)\n",
    "cv2.createTrackbar('UV','tracking',255, 255,nothing)\n",
    "\n",
    "while True:\n",
    "    frame = cv2.imread('shapesReal.jpg')\n",
    "    \n",
    "    hsv = cv2.cvtColor(frame, cv2.COLOR_BGR2HSV)\n",
    "    lh = cv2.getTrackbarPos('LH', 'tracking')\n",
    "    ls = cv2.getTrackbarPos('LS', 'tracking')\n",
    "    lv = cv2.getTrackbarPos('LV', 'tracking')\n",
    "    \n",
    "    uh = cv2.getTrackbarPos('UH', 'tracking')\n",
    "    us = cv2.getTrackbarPos('US', 'tracking')\n",
    "    uv = cv2.getTrackbarPos('UV', 'tracking')\n",
    "    \n",
    "    b_l = np.array([lh, ls, lv])\n",
    "    b_h = np.array([uh, us, uv])\n",
    "\n",
    "    mask = cv2.inRange(hsv, b_l, b_h)\n",
    "    \n",
    "    \n",
    "    res = cv2.bitwise_and(frame ,frame, mask=mask)\n",
    "#     b2 = frame[:,:,0] * mask\n",
    "#     g2 = frame[:,:,1] * mask\n",
    "#     r2 = frame[:,:,2] * mask\n",
    "#     res2 = cv2.merge([b2,g2,r2])\n",
    "    cv2.imshow('frame',frame)\n",
    "    cv2.imshow('hsv',hsv)\n",
    "    cv2.imshow('mask',mask)\n",
    "    cv2.imshow('res',res)\n",
    "    \n",
    "    k = cv2.waitKey(1) & 0XFF\n",
    "    if k == 27 :\n",
    "        break\n",
    "        \n",
    "cv2.destroyAllWindows()"
   ]
  },
  {
   "cell_type": "code",
   "execution_count": null,
   "id": "4f627811",
   "metadata": {},
   "outputs": [],
   "source": []
  }
 ],
 "metadata": {
  "kernelspec": {
   "display_name": "Python 3 (ipykernel)",
   "language": "python",
   "name": "python3"
  },
  "language_info": {
   "codemirror_mode": {
    "name": "ipython",
    "version": 3
   },
   "file_extension": ".py",
   "mimetype": "text/x-python",
   "name": "python",
   "nbconvert_exporter": "python",
   "pygments_lexer": "ipython3",
   "version": "3.7.12"
  }
 },
 "nbformat": 4,
 "nbformat_minor": 5
}
