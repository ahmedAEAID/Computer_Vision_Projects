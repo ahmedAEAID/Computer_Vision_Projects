{
 "cells": [
  {
   "cell_type": "markdown",
   "id": "1f831edb",
   "metadata": {},
   "source": [
    "### Improt Libarary"
   ]
  },
  {
   "cell_type": "code",
   "execution_count": null,
   "id": "cc0daf94",
   "metadata": {},
   "outputs": [],
   "source": [
    "import efficientnet.tfkeras as efn\n",
    "from tensorflow.keras.applications.efficientnet import preprocess_input\n",
    "from tensorflow.keras.preprocessing.image import img_to_array\n",
    "from tensorflow.keras.models import load_model\n",
    "from imutils.video import VideoStream\n",
    "import numpy as np\n",
    "import imutils\n",
    "import time\n",
    "import cv2\n",
    "import os"
   ]
  },
  {
   "cell_type": "markdown",
   "id": "382965e1",
   "metadata": {},
   "source": [
    "### Load Models"
   ]
  },
  {
   "cell_type": "code",
   "execution_count": null,
   "id": "baeb06f1",
   "metadata": {},
   "outputs": [],
   "source": [
    "# face detector \n",
    "prototxtPath = r\"face_detector\\deploy.prototxt\"\n",
    "weightsPath = r\"face_detector\\res10_300x300_ssd_iter_140000.caffemodel\"\n",
    "faceNet = cv2.dnn.readNet(prototxtPath, weightsPath)"
   ]
  },
  {
   "cell_type": "code",
   "execution_count": null,
   "id": "f719c63c",
   "metadata": {},
   "outputs": [],
   "source": [
    "# load the face mask detector model from disk\n",
    "maskNet = load_model(\"Mask_detector_model.h5\")"
   ]
  },
  {
   "cell_type": "markdown",
   "id": "7477baf2",
   "metadata": {},
   "source": [
    "### Preprocessing  Image "
   ]
  },
  {
   "cell_type": "code",
   "execution_count": null,
   "id": "126b8e4d",
   "metadata": {},
   "outputs": [],
   "source": [
    "def preprocessing_image(image):\n",
    "    image = cv2.cvtColor(image, cv2.COLOR_BGR2RGB)\n",
    "    image = cv2.resize(image, (224, 224))\n",
    "    image = np.array(image,dtype='float64')\n",
    "    image *= 1/255.0\n",
    "    image = preprocess_input(image)\n",
    "    return image "
   ]
  },
  {
   "cell_type": "markdown",
   "id": "4c09f466",
   "metadata": {},
   "source": [
    "### Detect Face and Predict Mask"
   ]
  },
  {
   "cell_type": "code",
   "execution_count": null,
   "id": "346e18bb",
   "metadata": {},
   "outputs": [],
   "source": [
    "def detect_and_predict_mask(frame, faceNet, maskNet):\n",
    "    \n",
    "    (h, w) = frame.shape[:2]\n",
    "    blob = cv2.dnn.blobFromImage(frame, 1.0, (224, 224),(104.0, 177.0, 123.0))\n",
    "    faceNet.setInput(blob)\n",
    "    detections = faceNet.forward()\n",
    "    \n",
    "    faces = []\n",
    "    locs = []\n",
    "    preds = []\n",
    "\n",
    "    # loop over the detections\n",
    "    for i in range(0, detections.shape[2]):\n",
    "        confidence = detections[0, 0, i, 2]\n",
    "        if confidence > 0.5:\n",
    "            box = detections[0, 0, i, 3:7] * np.array([w, h, w, h])\n",
    "            (startX, startY, endX, endY) = box.astype(\"int\")\n",
    "            (startX, startY) = (max(0, startX), max(0, startY))\n",
    "            (endX, endY) = (min(w - 1, endX), min(h - 1, endY))\n",
    "\n",
    "            face = frame[startY:endY, startX:endX]\n",
    "            face = preprocessing_image(face)\n",
    "            faces.append(face)\n",
    "            locs.append((startX, startY, endX, endY))\n",
    "            \n",
    "    if len(faces) > 0:        \n",
    "        faces = np.array(faces, dtype=\"float32\")\n",
    "        preds = maskNet.predict(faces, batch_size=32)\n",
    "    return (locs, preds)"
   ]
  },
  {
   "cell_type": "markdown",
   "id": "3bb133d3",
   "metadata": {},
   "source": [
    "### Video Stream"
   ]
  },
  {
   "cell_type": "code",
   "execution_count": null,
   "id": "b47367f5",
   "metadata": {},
   "outputs": [],
   "source": [
    "print(\"starting video stream...\")\n",
    "vs = VideoStream(src=0).start()\n",
    "\n",
    "while True:\n",
    "    \n",
    "    frame = vs.read()\n",
    "    frame = imutils.resize(frame, width=800)\n",
    "    \n",
    "    (locs, preds) = detect_and_predict_mask(frame, faceNet, maskNet)\n",
    "    for (box, pred) in zip(locs, preds):\n",
    "        \n",
    "        (startX, startY, endX, endY) = box\n",
    "        (mask, withoutMask) = pred\n",
    "        label = \"Mask\" if mask > withoutMask else \"No Mask\"\n",
    "        color = (0, 255, 0) if label == \"Mask\" else (0, 0, 255)\n",
    "\n",
    "        label = \"{}: {:.2f}%\".format(label, max(mask, withoutMask) * 100)\n",
    "        cv2.putText(frame, label, (startX, startY - 10),\n",
    "            cv2.FONT_HERSHEY_SIMPLEX, 0.45, color, 2)\n",
    "        cv2.rectangle(frame, (startX, startY), (endX, endY), color, 2)\n",
    "\n",
    "    # show the output frame\n",
    "    cv2.imshow(\"Frame\", frame)\n",
    "    key = cv2.waitKey(1) & 0xFF\n",
    "\n",
    "    if key == ord('s'):\n",
    "        cv2.imwrite('mymodels/image.png',frame)\n",
    "        print('saved')\n",
    "    # if the `q` key was pressed, break from the loop\n",
    "    if key == ord(\"q\"):\n",
    "        break\n",
    "vs.stop()\n",
    "cv2.destroyAllWindows()\n"
   ]
  },
  {
   "cell_type": "code",
   "execution_count": null,
   "id": "0af2752a",
   "metadata": {},
   "outputs": [],
   "source": []
  }
 ],
 "metadata": {
  "kernelspec": {
   "display_name": "Python 3 (ipykernel)",
   "language": "python",
   "name": "python3"
  },
  "language_info": {
   "codemirror_mode": {
    "name": "ipython",
    "version": 3
   },
   "file_extension": ".py",
   "mimetype": "text/x-python",
   "name": "python",
   "nbconvert_exporter": "python",
   "pygments_lexer": "ipython3",
   "version": "3.10.8"
  }
 },
 "nbformat": 4,
 "nbformat_minor": 5
}
